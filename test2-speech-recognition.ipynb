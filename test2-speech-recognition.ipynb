{
 "cells": [
  {
   "cell_type": "code",
   "execution_count": 3,
   "metadata": {},
   "outputs": [],
   "source": [
    "# import necessary libraries\n",
    "import gradio as gr\n",
    "import speech_recognition as sr\n",
    "from gtts import gTTS\n",
    "import playsound\n",
    "import nltk\n",
    "from nltk.tokenize import word_tokenize\n",
    "import csv\n",
    "import os"
   ]
  },
  {
   "cell_type": "code",
   "execution_count": 4,
   "metadata": {},
   "outputs": [
    {
     "name": "stdout",
     "output_type": "stream",
     "text": [
      "Running on local URL:  http://127.0.0.1:7861\n",
      "\n",
      "To create a public link, set `share=True` in `launch()`.\n"
     ]
    },
    {
     "data": {
      "text/html": [
       "<div><iframe src=\"http://127.0.0.1:7861/\" width=\"100%\" height=\"500\" allow=\"autoplay; camera; microphone; clipboard-read; clipboard-write;\" frameborder=\"0\" allowfullscreen></iframe></div>"
      ],
      "text/plain": [
       "<IPython.core.display.HTML object>"
      ]
     },
     "metadata": {},
     "output_type": "display_data"
    },
    {
     "name": "stdout",
     "output_type": "stream",
     "text": [
      "Please say something...\n",
      "You said: we got to spoiled\n",
      "I'm sorry, I didn't understand that. Can you please repeat?\n"
     ]
    }
   ],
   "source": [
    "# Load inventory from CSV\n",
    "def load_inventory(file_path):\n",
    "    # Initialize an empty dictionary to hold data\n",
    "    inventory = {}\n",
    "    # Open CSV file in read mode (r)\n",
    "    with open(file_path, mode='r') as file:\n",
    "        reader = csv.DictReader(file)\n",
    "        # Iterate of each row in the CSV file\n",
    "        for row in reader:\n",
    "            # Extract the product name from the current row\n",
    "            product = row[\"product\"]\n",
    "            # Add the product to the inventory dictionary with its qty and price\n",
    "            inventory[product] = {\"quantity\": int(row[\"quantity\"]), \"price\": float(row[\"price\"])}\n",
    "    # Return populated inventory dictionary\n",
    "    return inventory\n",
    "\n",
    "# Update the file path to the resources folder\n",
    "csv_file_path = os.path.join('Resources', 'mock_inventory.csv')\n",
    "inventory = load_inventory(csv_file_path)\n",
    "\n",
    "def process_command(command):\n",
    "    tokens = command.lower().split()\n",
    "    # ... (existing logic for processing command)\n",
    "    # Instead of speak, return the response text\n",
    "    if \"find\" in tokens and \"product\" in tokens:\n",
    "        return \"Sure, I can help you find a product. What are you looking for?\"\n",
    "    # ... (similar logic for other commands, return response text)\n",
    "    else:\n",
    "        return \"I'm sorry, I didn't understand that. Can you please repeat?\"\n",
    "\n",
    "# Define the input and output types for Gradio\n",
    "def interface(text):\n",
    "    response = process_command(text)\n",
    "    return response\n",
    "\n",
    "# Function to recognize speech and convert it to text\n",
    "def recognize_speech():\n",
    "    recognizer = sr.Recognizer()\n",
    "    with sr.Microphone() as source:\n",
    "        print(\"Please say something...\")\n",
    "        audio = recognizer.listen(source)\n",
    "        try:\n",
    "            text = recognizer.recognize_google(audio)\n",
    "            print(\"You said: \" + text)\n",
    "            return text\n",
    "        except sr.UnknownValueError:\n",
    "            return \"Sorry, I could not understand the audio.\"\n",
    "        except sr.RequestError as e:\n",
    "            return \"Could not request results; {0}\".format(e)\n",
    "\n",
    "# Launch the Gradio interface\n",
    "interface_fn = gr.Interface(fn=interface, inputs=\"text\", outputs=\"text\", title=\"Voice Assistant\")\n",
    "interface_fn.launch()\n",
    "\n",
    "# Recognize speech and process the command\n",
    "speech_text = recognize_speech()\n",
    "response = process_command(speech_text)\n",
    "print(response)"
   ]
  }
 ],
 "metadata": {
  "kernelspec": {
   "display_name": "base",
   "language": "python",
   "name": "python3"
  },
  "language_info": {
   "codemirror_mode": {
    "name": "ipython",
    "version": 3
   },
   "file_extension": ".py",
   "mimetype": "text/x-python",
   "name": "python",
   "nbconvert_exporter": "python",
   "pygments_lexer": "ipython3",
   "version": "3.11.5"
  }
 },
 "nbformat": 4,
 "nbformat_minor": 2
}
