{
 "cells": [
  {
   "cell_type": "code",
   "execution_count": 1,
   "metadata": {},
   "outputs": [],
   "source": [
    "import csv\n",
    "import os\n",
    "import speech_recognition as sr\n",
    "import gradio as gr\n",
    "import threading\n",
    "import time\n",
    "import pyttsx3\n",
    "import tempfile\n"
   ]
  },
  {
   "cell_type": "code",
   "execution_count": 2,
   "metadata": {},
   "outputs": [],
   "source": [
    "\n",
    "# Initialize the TTS engine\n",
    "engine = pyttsx3.init()\n",
    "\n",
    "# Load inventory from CSV\n",
    "def load_inventory(file_path):\n",
    "    inventory = {}\n",
    "    try:\n",
    "        with open(file_path, mode='r') as file:\n",
    "            reader = csv.DictReader(file)\n",
    "            for row in reader:\n",
    "                product = row[\"product\"]\n",
    "                inventory[product] = {\"quantity\": int(row[\"quantity\"]), \"price\": float(row[\"price\"])}\n",
    "    except FileNotFoundError:\n",
    "        print(f\"File not found: {file_path}\")\n",
    "    except Exception as e:\n",
    "        print(f\"Error loading inventory: {str(e)}\")\n",
    "    return inventory\n",
    "\n",
    "# Update the file path to the resources folder\n",
    "csv_file_path = os.path.join('Resources', 'mock_inventory.csv')\n",
    "inventory = load_inventory(csv_file_path)\n"
   ]
  },
  {
   "cell_type": "code",
   "execution_count": 5,
   "metadata": {},
   "outputs": [
    {
     "name": "stdout",
     "output_type": "stream",
     "text": [
      "Running on local URL:  http://127.0.0.1:7865\n",
      "Running on public URL: https://56e9e752873f48bee9.gradio.live\n",
      "\n",
      "This share link expires in 72 hours. For free permanent hosting and GPU upgrades, run `gradio deploy` from Terminal to deploy to Spaces (https://huggingface.co/spaces)\n"
     ]
    },
    {
     "data": {
      "text/html": [
       "<div><iframe src=\"https://56e9e752873f48bee9.gradio.live\" width=\"100%\" height=\"500\" allow=\"autoplay; camera; microphone; clipboard-read; clipboard-write;\" frameborder=\"0\" allowfullscreen></iframe></div>"
      ],
      "text/plain": [
       "<IPython.core.display.HTML object>"
      ]
     },
     "metadata": {},
     "output_type": "display_data"
    },
    {
     "name": "stdout",
     "output_type": "stream",
     "text": [
      "Gradio interface launched. You can now interact with the Paxil's voice assistant.\n"
     ]
    },
    {
     "name": "stderr",
     "output_type": "stream",
     "text": [
      "Traceback (most recent call last):\n",
      "  File \"c:\\Users\\lovel\\anaconda3\\Lib\\site-packages\\gradio\\queueing.py\", line 541, in process_events\n",
      "    response = await route_utils.call_process_api(\n",
      "               ^^^^^^^^^^^^^^^^^^^^^^^^^^^^^^^^^^^\n",
      "  File \"c:\\Users\\lovel\\anaconda3\\Lib\\site-packages\\gradio\\route_utils.py\", line 276, in call_process_api\n",
      "    output = await app.get_blocks().process_api(\n",
      "             ^^^^^^^^^^^^^^^^^^^^^^^^^^^^^^^^^^^\n",
      "  File \"c:\\Users\\lovel\\anaconda3\\Lib\\site-packages\\gradio\\blocks.py\", line 1928, in process_api\n",
      "    result = await self.call_function(\n",
      "             ^^^^^^^^^^^^^^^^^^^^^^^^^\n",
      "  File \"c:\\Users\\lovel\\anaconda3\\Lib\\site-packages\\gradio\\blocks.py\", line 1514, in call_function\n",
      "    prediction = await anyio.to_thread.run_sync(\n",
      "                 ^^^^^^^^^^^^^^^^^^^^^^^^^^^^^^^\n",
      "  File \"c:\\Users\\lovel\\anaconda3\\Lib\\site-packages\\anyio\\to_thread.py\", line 56, in run_sync\n",
      "    return await get_async_backend().run_sync_in_worker_thread(\n",
      "           ^^^^^^^^^^^^^^^^^^^^^^^^^^^^^^^^^^^^^^^^^^^^^^^^^^^^\n",
      "  File \"c:\\Users\\lovel\\anaconda3\\Lib\\site-packages\\anyio\\_backends\\_asyncio.py\", line 2134, in run_sync_in_worker_thread\n",
      "    return await future\n",
      "           ^^^^^^^^^^^^\n",
      "  File \"c:\\Users\\lovel\\anaconda3\\Lib\\site-packages\\anyio\\_backends\\_asyncio.py\", line 851, in run\n",
      "    result = context.run(func, *args)\n",
      "             ^^^^^^^^^^^^^^^^^^^^^^^^\n",
      "  File \"c:\\Users\\lovel\\anaconda3\\Lib\\site-packages\\gradio\\utils.py\", line 833, in wrapper\n",
      "    response = f(*args, **kwargs)\n",
      "               ^^^^^^^^^^^^^^^^^^\n",
      "  File \"C:\\Users\\lovel\\AppData\\Local\\Temp\\ipykernel_12908\\2423505071.py\", line 32, in voice_interface\n",
      "    text = speech_to_text(audio)\n",
      "           ^^^^^^^^^^^^^^^^^^^^^\n",
      "  File \"C:\\Users\\lovel\\AppData\\Local\\Temp\\ipykernel_12908\\2423505071.py\", line 13, in speech_to_text\n",
      "    with sr.AudioFile(audio) as source:\n",
      "         ^^^^^^^^^^^^^^^^^^^\n",
      "  File \"c:\\Users\\lovel\\anaconda3\\Lib\\site-packages\\speech_recognition\\__init__.py\", line 226, in __init__\n",
      "    assert isinstance(filename_or_fileobject, (type(\"\"), type(u\"\"))) or hasattr(filename_or_fileobject, \"read\"), \"Given audio file must be a filename string or a file-like object\"\n",
      "AssertionError: Given audio file must be a filename string or a file-like object\n"
     ]
    }
   ],
   "source": [
    "\n",
    "# Function to process commands\n",
    "def process_command(command):\n",
    "    tokens = command.lower().split()\n",
    "    if \"find\" in tokens and \"product\" in tokens:\n",
    "        return \"Sure, I can help you find a product. What are you looking for?\"\n",
    "    else:\n",
    "        return \"I'm sorry, I didn't understand that. Can you please repeat?\"\n",
    "\n",
    "# Function to convert speech to text\n",
    "def speech_to_text(audio):\n",
    "    recognizer = sr.Recognizer()\n",
    "    try:\n",
    "        with sr.AudioFile(audio) as source:\n",
    "            audio_data = recognizer.record(source)\n",
    "        text = recognizer.recognize_google(audio_data)\n",
    "        return text\n",
    "    except sr.UnknownValueError:\n",
    "        return \"Sorry, I could not understand the audio.\"\n",
    "    except sr.RequestError as e:\n",
    "        return f\"Could not request results; {e}\"\n",
    "\n",
    "# Function to convert text to speech\n",
    "def text_to_speech(text):\n",
    "    with tempfile.NamedTemporaryFile(delete=False, suffix=\".wav\") as temp_file:\n",
    "        engine.save_to_file(text, temp_file.name)\n",
    "        engine.runAndWait()\n",
    "    return temp_file.name\n",
    "\n",
    "# Function to handle voice interface\n",
    "def voice_interface(audio):\n",
    "    if audio is not None:\n",
    "        text = speech_to_text(audio)\n",
    "        response = process_command(text)\n",
    "        response_audio = text_to_speech(response)\n",
    "        return f\"You said: {text}\\nResponse: {response}\", response_audio\n",
    "    else:\n",
    "        return \"No audio input received.\", None\n",
    "\n",
    "# Function to play initial greeting\n",
    "def play_initial_greeting():\n",
    "    greeting_text = \"Hi, I am Paxil Voice Assistant, I am listening.\"\n",
    "    engine.say(greeting_text)\n",
    "    engine.runAndWait()\n",
    "\n",
    "# Launch the Gradio interface\n",
    "interface = gr.Interface(\n",
    "    fn=voice_interface,\n",
    "    inputs=gr.Microphone(),\n",
    "    outputs=[\"text\", gr.Audio(type=\"filepath\")],\n",
    "    title=\"Paxil's Voice Assistant\",\n",
    "    description=\"Speak into the microphone and get a voice response!\",\n",
    "    live=True\n",
    ")\n",
    "\n",
    "# Play the initial greeting\n",
    "play_initial_greeting()\n",
    "\n",
    "interface.launch(share=True)\n",
    "\n",
    "print(\"Gradio interface launched. You can now interact with the Paxil's voice assistant.\")"
   ]
  }
 ],
 "metadata": {
  "kernelspec": {
   "display_name": "base",
   "language": "python",
   "name": "python3"
  },
  "language_info": {
   "codemirror_mode": {
    "name": "ipython",
    "version": 3
   },
   "file_extension": ".py",
   "mimetype": "text/x-python",
   "name": "python",
   "nbconvert_exporter": "python",
   "pygments_lexer": "ipython3",
   "version": "3.11.5"
  }
 },
 "nbformat": 4,
 "nbformat_minor": 2
}
