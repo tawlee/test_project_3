{
 "cells": [
  {
   "cell_type": "code",
   "execution_count": 1,
   "metadata": {},
   "outputs": [
    {
     "name": "stderr",
     "output_type": "stream",
     "text": [
      "[nltk_data] Downloading package punkt to\n",
      "[nltk_data]     C:\\Users\\lovel\\AppData\\Roaming\\nltk_data...\n",
      "[nltk_data]   Package punkt is already up-to-date!\n"
     ]
    },
    {
     "data": {
      "text/plain": [
       "True"
      ]
     },
     "execution_count": 1,
     "metadata": {},
     "output_type": "execute_result"
    }
   ],
   "source": [
    "# import necessary libraries\n",
    "import speech_recognition as sr\n",
    "from gtts import gTTS\n",
    "import playsound\n",
    "import nltk\n",
    "from nltk.tokenize import word_tokenize\n",
    "import csv\n",
    "import os\n",
    "\n",
    "# Download necessary NLTK data\n",
    "nltk.download('punkt')\n"
   ]
  },
  {
   "cell_type": "code",
   "execution_count": 3,
   "metadata": {},
   "outputs": [
    {
     "name": "stdout",
     "output_type": "stream",
     "text": [
      "Running on local URL:  http://127.0.0.1:7860\n",
      "\n",
      "To create a public link, set `share=True` in `launch()`.\n"
     ]
    },
    {
     "data": {
      "text/html": [
       "<div><iframe src=\"http://127.0.0.1:7860/\" width=\"100%\" height=\"500\" allow=\"autoplay; camera; microphone; clipboard-read; clipboard-write;\" frameborder=\"0\" allowfullscreen></iframe></div>"
      ],
      "text/plain": [
       "<IPython.core.display.HTML object>"
      ]
     },
     "metadata": {},
     "output_type": "display_data"
    },
    {
     "data": {
      "text/plain": []
     },
     "execution_count": 3,
     "metadata": {},
     "output_type": "execute_result"
    },
    {
     "name": "stderr",
     "output_type": "stream",
     "text": [
      "Traceback (most recent call last):\n",
      "  File \"c:\\Users\\lovel\\anaconda3\\Lib\\site-packages\\gradio\\queueing.py\", line 541, in process_events\n",
      "    response = await route_utils.call_process_api(\n",
      "               ^^^^^^^^^^^^^^^^^^^^^^^^^^^^^^^^^^^\n",
      "  File \"c:\\Users\\lovel\\anaconda3\\Lib\\site-packages\\gradio\\route_utils.py\", line 276, in call_process_api\n",
      "    output = await app.get_blocks().process_api(\n",
      "             ^^^^^^^^^^^^^^^^^^^^^^^^^^^^^^^^^^^\n",
      "  File \"c:\\Users\\lovel\\anaconda3\\Lib\\site-packages\\gradio\\blocks.py\", line 1928, in process_api\n",
      "    result = await self.call_function(\n",
      "             ^^^^^^^^^^^^^^^^^^^^^^^^^\n",
      "  File \"c:\\Users\\lovel\\anaconda3\\Lib\\site-packages\\gradio\\blocks.py\", line 1514, in call_function\n",
      "    prediction = await anyio.to_thread.run_sync(\n",
      "                 ^^^^^^^^^^^^^^^^^^^^^^^^^^^^^^^\n",
      "  File \"c:\\Users\\lovel\\anaconda3\\Lib\\site-packages\\anyio\\to_thread.py\", line 56, in run_sync\n",
      "    return await get_async_backend().run_sync_in_worker_thread(\n",
      "           ^^^^^^^^^^^^^^^^^^^^^^^^^^^^^^^^^^^^^^^^^^^^^^^^^^^^\n",
      "  File \"c:\\Users\\lovel\\anaconda3\\Lib\\site-packages\\anyio\\_backends\\_asyncio.py\", line 2134, in run_sync_in_worker_thread\n",
      "    return await future\n",
      "           ^^^^^^^^^^^^\n",
      "  File \"c:\\Users\\lovel\\anaconda3\\Lib\\site-packages\\anyio\\_backends\\_asyncio.py\", line 851, in run\n",
      "    result = context.run(func, *args)\n",
      "             ^^^^^^^^^^^^^^^^^^^^^^^^\n",
      "  File \"c:\\Users\\lovel\\anaconda3\\Lib\\site-packages\\gradio\\utils.py\", line 833, in wrapper\n",
      "    response = f(*args, **kwargs)\n",
      "               ^^^^^^^^^^^^^^^^^^\n",
      "  File \"C:\\Users\\lovel\\AppData\\Local\\Temp\\ipykernel_6300\\3804324430.py\", line 38, in interface\n",
      "    response = process_command(text)\n",
      "               ^^^^^^^^^^^^^^^^^^^^^\n",
      "  File \"C:\\Users\\lovel\\AppData\\Local\\Temp\\ipykernel_6300\\3804324430.py\", line 28, in process_command\n",
      "    if \"find\" in tokens and \"product\" in tokens:\n",
      "                 ^^^^^^\n",
      "NameError: name 'tokens' is not defined\n",
      "Traceback (most recent call last):\n",
      "  File \"c:\\Users\\lovel\\anaconda3\\Lib\\site-packages\\gradio\\queueing.py\", line 541, in process_events\n",
      "    response = await route_utils.call_process_api(\n",
      "               ^^^^^^^^^^^^^^^^^^^^^^^^^^^^^^^^^^^\n",
      "  File \"c:\\Users\\lovel\\anaconda3\\Lib\\site-packages\\gradio\\route_utils.py\", line 276, in call_process_api\n",
      "    output = await app.get_blocks().process_api(\n",
      "             ^^^^^^^^^^^^^^^^^^^^^^^^^^^^^^^^^^^\n",
      "  File \"c:\\Users\\lovel\\anaconda3\\Lib\\site-packages\\gradio\\blocks.py\", line 1928, in process_api\n",
      "    result = await self.call_function(\n",
      "             ^^^^^^^^^^^^^^^^^^^^^^^^^\n",
      "  File \"c:\\Users\\lovel\\anaconda3\\Lib\\site-packages\\gradio\\blocks.py\", line 1514, in call_function\n",
      "    prediction = await anyio.to_thread.run_sync(\n",
      "                 ^^^^^^^^^^^^^^^^^^^^^^^^^^^^^^^\n",
      "  File \"c:\\Users\\lovel\\anaconda3\\Lib\\site-packages\\anyio\\to_thread.py\", line 56, in run_sync\n",
      "    return await get_async_backend().run_sync_in_worker_thread(\n",
      "           ^^^^^^^^^^^^^^^^^^^^^^^^^^^^^^^^^^^^^^^^^^^^^^^^^^^^\n",
      "  File \"c:\\Users\\lovel\\anaconda3\\Lib\\site-packages\\anyio\\_backends\\_asyncio.py\", line 2134, in run_sync_in_worker_thread\n",
      "    return await future\n",
      "           ^^^^^^^^^^^^\n",
      "  File \"c:\\Users\\lovel\\anaconda3\\Lib\\site-packages\\anyio\\_backends\\_asyncio.py\", line 851, in run\n",
      "    result = context.run(func, *args)\n",
      "             ^^^^^^^^^^^^^^^^^^^^^^^^\n",
      "  File \"c:\\Users\\lovel\\anaconda3\\Lib\\site-packages\\gradio\\utils.py\", line 833, in wrapper\n",
      "    response = f(*args, **kwargs)\n",
      "               ^^^^^^^^^^^^^^^^^^\n",
      "  File \"C:\\Users\\lovel\\AppData\\Local\\Temp\\ipykernel_6300\\3804324430.py\", line 38, in interface\n",
      "    response = process_command(text)\n",
      "               ^^^^^^^^^^^^^^^^^^^^^\n",
      "  File \"C:\\Users\\lovel\\AppData\\Local\\Temp\\ipykernel_6300\\3804324430.py\", line 28, in process_command\n",
      "    if \"find\" in tokens and \"product\" in tokens:\n",
      "                 ^^^^^^\n",
      "NameError: name 'tokens' is not defined\n"
     ]
    }
   ],
   "source": [
    "# Load inventory from CSV\n",
    "def load_inventory(file_path):\n",
    "    # Initialize an empty dictionary to hold data\n",
    "    inventory = {}\n",
    "    # Open CSV file in read mode (r)\n",
    "    with open(file_path, mode='r') as file:\n",
    "        reader = csv.DictReader(file)\n",
    "        # Iterate of each row in the CSV file\n",
    "        for row in reader:\n",
    "            # Extract the product name from the current row\n",
    "            product = row[\"product\"]\n",
    "            # Add the product to the inventory dictionary with its qty and price\n",
    "            inventory[product] = {\"quantity\": int(row[\"quantity\"]), \"price\": float(row[\"price\"])}\n",
    "            # Return populated inventory dictionary\n",
    "    return inventory\n",
    "\n",
    "# Update the file path to the resources folder\n",
    "csv_file_path = os.path.join('Resources', 'mock_inventory.csv')\n",
    "inventory = load_inventory(csv_file_path)\n",
    "\n",
    "# Update the file path to the resources folder (assuming it's there)\n",
    "csv_file_path = os.path.join('Resources', 'mock_inventory.csv')\n",
    "inventory = load_inventory(csv_file_path)\n",
    "\n",
    "def process_command(command):\n",
    "  # ... (existing logic for processing command)\n",
    "  # Instead of speak, return the response text\n",
    "  if \"find\" in tokens and \"product\" in tokens:\n",
    "    return \"Sure, I can help you find a product. What are you looking for?\"\n",
    "  # ... (similar logic for other commands, return response text)\n",
    "  else:\n",
    "    return \"I'm sorry, I didn't understand that. Can you please repeat?\"\n",
    "\n",
    "import gradio as gr\n",
    "\n",
    "# Define the input and output types for Gradio\n",
    "def interface(text):\n",
    "  response = process_command(text)\n",
    "  return response\n",
    "\n",
    "# Launch the Gradio interface\n",
    "interface_fn = gr.Interface(fn=interface, inputs=\"text\", outputs=\"text\", title=\"Voice Assistant\")\n",
    "interface_fn.launch()"
   ]
  },
  {
   "cell_type": "code",
   "execution_count": null,
   "metadata": {},
   "outputs": [],
   "source": [
    "\n",
    "# Update the file path to the resources folder (assuming it's there)\n",
    "csv_file_path = os.path.join('Resources', 'mock_inventory.csv')\n",
    "inventory = load_inventory(csv_file_path)\n",
    "\n",
    "def process_command(command):\n",
    "  # ... (existing logic for processing command)\n",
    "  # Instead of speak, return the response text\n",
    "  if \"find\" in tokens and \"product\" in tokens:\n",
    "    return \"Sure, I can help you find a product. What are you looking for?\"\n",
    "  # ... (similar logic for other commands, return response text)\n",
    "  else:\n",
    "    return \"I'm sorry, I didn't understand that. Can you please repeat?\"\n",
    "\n",
    "import gradio as gr\n",
    "\n",
    "# Define the input and output types for Gradio\n",
    "def interface(text):\n",
    "  response = process_command(text)\n",
    "  return response\n",
    "\n",
    "# Launch the Gradio interface\n",
    "interface_fn = gr.Interface(fn=interface, inputs=\"text\", outputs=\"text\", title=\"Voice Assistant\")\n",
    "interface_fn.launch()"
   ]
  }
 ],
 "metadata": {
  "kernelspec": {
   "display_name": "base",
   "language": "python",
   "name": "python3"
  },
  "language_info": {
   "codemirror_mode": {
    "name": "ipython",
    "version": 3
   },
   "file_extension": ".py",
   "mimetype": "text/x-python",
   "name": "python",
   "nbconvert_exporter": "python",
   "pygments_lexer": "ipython3",
   "version": "3.11.5"
  }
 },
 "nbformat": 4,
 "nbformat_minor": 2
}
