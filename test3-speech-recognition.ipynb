{
 "cells": [
  {
   "cell_type": "code",
   "execution_count": 3,
   "metadata": {},
   "outputs": [],
   "source": [
    "# import necessary libraries\n",
    "import speech_recognition as sr\n",
    "from gtts import gTTS\n",
    "import playsound\n",
    "import nltk\n",
    "from nltk.tokenize import word_tokenize\n",
    "import csv\n",
    "import os\n",
    "import gradio as gr\n"
   ]
  },
  {
   "cell_type": "code",
   "execution_count": 4,
   "metadata": {},
   "outputs": [
    {
     "ename": "TypeError",
     "evalue": "Audio.__init__() got an unexpected keyword argument 'source'",
     "output_type": "error",
     "traceback": [
      "\u001b[1;31m---------------------------------------------------------------------------\u001b[0m",
      "\u001b[1;31mTypeError\u001b[0m                                 Traceback (most recent call last)",
      "Cell \u001b[1;32mIn[4], line 53\u001b[0m\n\u001b[0;32m     48\u001b[0m         \u001b[38;5;28;01mreturn\u001b[39;00m \u001b[38;5;124m\"\u001b[39m\u001b[38;5;124mNo audio input received.\u001b[39m\u001b[38;5;124m\"\u001b[39m\n\u001b[0;32m     50\u001b[0m \u001b[38;5;66;03m# Launch the Gradio interface\u001b[39;00m\n\u001b[0;32m     51\u001b[0m interface \u001b[38;5;241m=\u001b[39m gr\u001b[38;5;241m.\u001b[39mInterface(\n\u001b[0;32m     52\u001b[0m     fn\u001b[38;5;241m=\u001b[39mvoice_interface,\n\u001b[1;32m---> 53\u001b[0m     inputs\u001b[38;5;241m=\u001b[39mgr\u001b[38;5;241m.\u001b[39mAudio(source\u001b[38;5;241m=\u001b[39m\u001b[38;5;124m\"\u001b[39m\u001b[38;5;124mmicrophone\u001b[39m\u001b[38;5;124m\"\u001b[39m, \u001b[38;5;28mtype\u001b[39m\u001b[38;5;241m=\u001b[39m\u001b[38;5;124m\"\u001b[39m\u001b[38;5;124mfilepath\u001b[39m\u001b[38;5;124m\"\u001b[39m),\n\u001b[0;32m     54\u001b[0m     outputs\u001b[38;5;241m=\u001b[39m\u001b[38;5;124m\"\u001b[39m\u001b[38;5;124mtext\u001b[39m\u001b[38;5;124m\"\u001b[39m,\n\u001b[0;32m     55\u001b[0m     title\u001b[38;5;241m=\u001b[39m\u001b[38;5;124m\"\u001b[39m\u001b[38;5;124mVoice Assistant\u001b[39m\u001b[38;5;124m\"\u001b[39m\n\u001b[0;32m     56\u001b[0m )\n\u001b[0;32m     58\u001b[0m interface\u001b[38;5;241m.\u001b[39mlaunch()\n\u001b[0;32m     60\u001b[0m \u001b[38;5;28mprint\u001b[39m(\u001b[38;5;124m\"\u001b[39m\u001b[38;5;124mGradio interface launched. You can now interact with the voice assistant.\u001b[39m\u001b[38;5;124m\"\u001b[39m)\n",
      "File \u001b[1;32mc:\\Users\\lovel\\anaconda3\\Lib\\site-packages\\gradio\\component_meta.py:163\u001b[0m, in \u001b[0;36mupdateable.<locals>.wrapper\u001b[1;34m(*args, **kwargs)\u001b[0m\n\u001b[0;32m    161\u001b[0m     \u001b[38;5;28;01mreturn\u001b[39;00m \u001b[38;5;28;01mNone\u001b[39;00m\n\u001b[0;32m    162\u001b[0m \u001b[38;5;28;01melse\u001b[39;00m:\n\u001b[1;32m--> 163\u001b[0m     \u001b[38;5;28;01mreturn\u001b[39;00m fn(\u001b[38;5;28mself\u001b[39m, \u001b[38;5;241m*\u001b[39m\u001b[38;5;241m*\u001b[39mkwargs)\n",
      "\u001b[1;31mTypeError\u001b[0m: Audio.__init__() got an unexpected keyword argument 'source'"
     ]
    }
   ],
   "source": [
    "import csv\n",
    "import os\n",
    "import speech_recognition as sr\n",
    "import gradio as gr\n",
    "\n",
    "# Load inventory from CSV\n",
    "def load_inventory(file_path):\n",
    "    inventory = {}\n",
    "    with open(file_path, mode='r') as file:\n",
    "        reader = csv.DictReader(file)\n",
    "        for row in reader:\n",
    "            product = row[\"product\"]\n",
    "            inventory[product] = {\"quantity\": int(row[\"quantity\"]), \"price\": float(row[\"price\"])}\n",
    "    return inventory\n",
    "\n",
    "# Update the file path to the resources folder\n",
    "csv_file_path = os.path.join('Resources', 'mock_inventory.csv')\n",
    "inventory = load_inventory(csv_file_path)\n",
    "\n",
    "def process_command(command):\n",
    "    tokens = command.lower().split()\n",
    "    if \"find\" in tokens and \"product\" in tokens:\n",
    "        return \"Sure, I can help you find a product. What are you looking for?\"\n",
    "    else:\n",
    "        return \"I'm sorry, I didn't understand that. Can you please repeat?\"\n",
    "\n",
    "def speech_to_text(audio):\n",
    "    recognizer = sr.Recognizer()\n",
    "    try:\n",
    "        # Convert the audio to a format that speech_recognition can use\n",
    "        with sr.AudioFile(audio) as source:\n",
    "            audio_data = recognizer.record(source)\n",
    "        # Recognize the speech\n",
    "        text = recognizer.recognize_google(audio_data)\n",
    "        return text\n",
    "    except sr.UnknownValueError:\n",
    "        return \"Sorry, I could not understand the audio.\"\n",
    "    except sr.RequestError as e:\n",
    "        return \"Could not request results; {0}\".format(e)\n",
    "\n",
    "def voice_interface(audio):\n",
    "    if audio is not None:\n",
    "        text = speech_to_text(audio)\n",
    "        response = process_command(text)\n",
    "        return f\"You said: {text}\\\n",
    "Response: {response}\"\n",
    "    else:\n",
    "        return \"No audio input received.\"\n",
    "\n",
    "# Launch the Gradio interface\n",
    "interface = gr.Interface(\n",
    "    fn=voice_interface,\n",
    "    inputs=gr.Audio(source=\"microphone\", type=\"filepath\"),\n",
    "    outputs=\"text\",\n",
    "    title=\"Voice Assistant\"\n",
    ")\n",
    "\n",
    "interface.launch()\n",
    "\n",
    "print(\"Gradio interface launched. You can now interact with the voice assistant.\")"
   ]
  }
 ],
 "metadata": {
  "kernelspec": {
   "display_name": "base",
   "language": "python",
   "name": "python3"
  },
  "language_info": {
   "codemirror_mode": {
    "name": "ipython",
    "version": 3
   },
   "file_extension": ".py",
   "mimetype": "text/x-python",
   "name": "python",
   "nbconvert_exporter": "python",
   "pygments_lexer": "ipython3",
   "version": "3.11.5"
  }
 },
 "nbformat": 4,
 "nbformat_minor": 2
}
